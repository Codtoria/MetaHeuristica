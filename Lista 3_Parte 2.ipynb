{
 "cells": [
  {
   "cell_type": "code",
   "execution_count": null,
   "metadata": {},
   "outputs": [],
   "source": [
    "s = 0\n",
    "a = 1\n",
    "while(a < 51):\n",
    "    s = s + (2*a - 1)/a\n",
    "    a = a + 1\n",
    "print(s)"
   ]
  },
  {
   "cell_type": "code",
   "execution_count": null,
   "metadata": {},
   "outputs": [],
   "source": [
    "s1 = 0\n",
    "s2 = 0 \n",
    "a = 1 \n",
    "b = 0\n",
    "while(a < 101):\n",
    "    s1 = s1 + a*a\n",
    "    b = b + a\n",
    "    s2 = b*b\n",
    "    a = a + 1\n",
    "print(s2 - s1)"
   ]
  },
  {
   "cell_type": "code",
   "execution_count": null,
   "metadata": {},
   "outputs": [],
   "source": [
    "a = 3\n",
    "b = 1\n",
    "c = 0\n",
    "while(a != b):\n",
    "    a = a + 0.02*a\n",
    "    b = b + 0.05*b\n",
    "    c = c + 1\n",
    "print(c)"
   ]
  },
  {
   "cell_type": "code",
   "execution_count": null,
   "metadata": {},
   "outputs": [],
   "source": [
    "a = 150\n",
    "b = 110\n",
    "c = 0\n",
    "while(b <= a):\n",
    "    a = a + 2\n",
    "    b = b + 3\n",
    "    c = c + 1\n",
    "print(c)"
   ]
  },
  {
   "cell_type": "code",
   "execution_count": null,
   "metadata": {},
   "outputs": [],
   "source": [
    "b = 1997\n",
    "c = 30\n",
    "d = 2030\n",
    "while(b < 2023):\n",
    "    c *= 2\n",
    "    d += c\n",
    "    b = b + 1\n",
    "print(d)"
   ]
  },
  {
   "cell_type": "code",
   "execution_count": null,
   "metadata": {},
   "outputs": [],
   "source": [
    "a = 1\n",
    "b = 2\n",
    "c = 1\n",
    "s1 = 1\n",
    "s2 = 1\n",
    "s3 = 0 \n",
    "while(a <= 5):\n",
    "    while(c <= b ):\n",
    "        s1 *= c \n",
    "        c = c + 1\n",
    "    s3 = s3 + s2/s1\n",
    "    s2 = s2 + 1\n",
    "    b = b + 2\n",
    "    a = a + 1\n",
    "print(s3)\n",
    "    \n"
   ]
  }
 ],
 "metadata": {
  "kernelspec": {
   "display_name": "base",
   "language": "python",
   "name": "python3"
  },
  "language_info": {
   "codemirror_mode": {
    "name": "ipython",
    "version": 3
   },
   "file_extension": ".py",
   "mimetype": "text/x-python",
   "name": "python",
   "nbconvert_exporter": "python",
   "pygments_lexer": "ipython3",
   "version": "3.9.13"
  },
  "orig_nbformat": 4,
  "vscode": {
   "interpreter": {
    "hash": "f49206fcf84a9145e7e21228cbafa911d1ac18292303b01e865d8267a9c448f7"
   }
  }
 },
 "nbformat": 4,
 "nbformat_minor": 2
}
